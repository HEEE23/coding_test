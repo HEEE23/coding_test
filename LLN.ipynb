{
 "cells": [
  {
   "cell_type": "code",
   "execution_count": 3,
   "metadata": {},
   "outputs": [
    {
     "name": "stdout",
     "output_type": "stream",
     "text": [
      "46\n"
     ]
    }
   ],
   "source": [
    "# 1\n",
    "n, m, k = map(int,input().split())    # n : 배열의 크기, m : 더하는 횟수, k : 연속으로 더할 수 있는 최대수 \n",
    "data = list(map(int,input().split())) # n 개의 자연수\n",
    "\n",
    "data.sort()             # 데이터 정렬\n",
    "\n",
    "first = data[n-1]       # data의 가장 큰 수\n",
    "second = data[n-2]      # 두 번째로 큰 수\n",
    "\n",
    "result = 0 \n",
    "\n",
    "while(True):\n",
    "    for i in range(k):  # 가장 큰 수를 k번 더한다.\n",
    "        if m == 0:      # 만약 더하는 횟수가 0이면 break\n",
    "            break\n",
    "        result += first\n",
    "        m -= 1          # 반복할 때마다 더하는 횟수 -1\n",
    "    if m == 0:\n",
    "        break\n",
    "    result += second    # result값에 두 번쨰로 큰 수를 더한다.\n",
    "    m -= 1              # 반복할 때마다 더하는 횟수 -1\n",
    "\n",
    "print(result)\n",
    "        "
   ]
  },
  {
   "cell_type": "code",
   "execution_count": 4,
   "metadata": {},
   "outputs": [
    {
     "name": "stdout",
     "output_type": "stream",
     "text": [
      "46\n"
     ]
    }
   ],
   "source": [
    "# 2\n",
    "n, m, k = map(int, input().split())\n",
    "data = list(map(int, input().split()))\n",
    "\n",
    "data.sort()\n",
    "\n",
    "first = data[n-1]\n",
    "second = data[n-2]\n",
    "\n",
    "# 가장 큰 수가 등장하는 횟수 \n",
    "count = int(m / (k+1)) * k     # 반복되는 수열의 길이 * 연속되는 최대 수 \n",
    "count += m % (k+1)             # 나눴을 때 나누어 떨어지지 않을 떄는 나머지만큼 큰 수가 더해지므로 이를 고려 \n",
    "\n",
    "result = 0\n",
    "result += count * first        # 가장 큰 수가 더해지는 횟수 * 가장 큰 값\n",
    "result += (m-count) * second   # (더하는 횟수 - 가장 큰 수가 등장하는 횟수) : 두 번쨰로 큰 값이 등장하는 횟수 * 두 번쨰로 큰 값\n",
    "\n",
    "print(result)"
   ]
  }
 ],
 "metadata": {
  "kernelspec": {
   "display_name": "Python 3",
   "language": "python",
   "name": "python3"
  },
  "language_info": {
   "codemirror_mode": {
    "name": "ipython",
    "version": 3
   },
   "file_extension": ".py",
   "mimetype": "text/x-python",
   "name": "python",
   "nbconvert_exporter": "python",
   "pygments_lexer": "ipython3",
   "version": "3.11.2"
  },
  "orig_nbformat": 4
 },
 "nbformat": 4,
 "nbformat_minor": 2
}
